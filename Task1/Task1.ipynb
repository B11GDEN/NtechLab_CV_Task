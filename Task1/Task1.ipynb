{
 "cells": [
  {
   "cell_type": "markdown",
   "metadata": {
    "colab_type": "text",
    "id": "YhvddkXCovJg"
   },
   "source": [
    "# Задача: Найти непрерывный подмассив в массиве, содержащий хотя бы одно число, который имеет наибольшую сумму."
   ]
  },
  {
   "cell_type": "markdown",
   "metadata": {
    "colab_type": "text",
    "id": "R3nG8C7UpIXa"
   },
   "source": [
    "## Способ 1 : Грубый подход\n",
    "Переберем все подмассивы и выберем среди них максимальный  \n",
    "Сложность : квадратичная"
   ]
  },
  {
   "cell_type": "code",
   "execution_count": null,
   "metadata": {
    "colab": {},
    "colab_type": "code",
    "id": "sai4_tyJv7LR"
   },
   "outputs": [],
   "source": [
    "def findMaxSubArray_ON2(A):\n",
    "\n",
    "    best_sum   = float('-inf')\n",
    "    best_start = 0\n",
    "    best_end   = 0\n",
    "\n",
    "    for idx1, i in enumerate(A):\n",
    "        curr_sum = 0\n",
    "        for idx2, j in enumerate(A[idx1:]):\n",
    "            curr_sum += j\n",
    "\n",
    "            if curr_sum > best_sum:\n",
    "                best_sum   = curr_sum\n",
    "                best_start = idx1\n",
    "                best_end   = idx2 + idx1\n",
    "\n",
    "    return A[best_start : best_end + 1]"
   ]
  },
  {
   "cell_type": "markdown",
   "metadata": {
    "colab_type": "text",
    "id": "mC_ePjNxpoKN"
   },
   "source": [
    "## Способ 2 : алгоритм Кадане\n",
    "\n",
    "для начала нужно разбить массив на подмассивы следующим образом: Идем по массиву слева направо, и накапливаем сумму элементов массива в *curr_sum*, как только *curr_sum* станет < 0 первый подмассив заканчивается, далее мы обнуляем curr_sum и начинаем новый подмассив.  \n",
    "В результате мы разобьем наш массив на области:\n",
    "![1](imgs/1.png)\n",
    "\n",
    "> **Утверждение 1: Максимальный подмассив искомого массива не может принадлежать нескольким областям**\n",
    "\n",
    "Доказательство от противного: Пусть *A[i1:i3]* - максимальный подмассив\n",
    "![2](imgs/2.png)\n",
    "*sum(A[i1:i2]) = sum(A[0:i2]) - sum(A[0:i1])*  \n",
    "*sum(A[0:i2]) < 0*  \n",
    "*sum(A[0:i1]) > 0*  \n",
    "Откуда *sum(A[i1:i2]) < 0*  \n",
    "В результате *sum(A[i2:i3]) > sum(a[i1:i3])* - противоречие\n",
    "\n",
    "> **Утверждение 2: Максимальный подмассив области включает в себя её начало**\n",
    "\n",
    "Доказательство от противного: Пусть *A[i1:i2]* - максимальный подмассив\n",
    "![3](imgs/3.png)\n",
    "*sum(A[0:i1]) > 0*  \n",
    "*sum(A[0:i2]) > sum(A[i1:i2])* - Противоречие  \n",
    "\n",
    "> В итоге заводим переменную *best_sum* в которой будем хранить наилучшее значение *curr_sum*. Из Утв1 и Утв2 следует , что *best_sum* - значение максимального подмассива\n",
    "\n",
    "Сложность : Линейная"
   ]
  },
  {
   "cell_type": "code",
   "execution_count": null,
   "metadata": {
    "colab": {},
    "colab_type": "code",
    "id": "j9_iya1An6j9"
   },
   "outputs": [],
   "source": [
    "\n",
    "def findMaxSubArray_ON(A):\n",
    "\n",
    "    best_sum   = float('-inf')\n",
    "    best_start = 0 \n",
    "    best_end   = 0\n",
    "    curr_sum   = 0\n",
    "    curr_start = 0\n",
    "    \n",
    "    for curr_end, i in enumerate(A):\n",
    "        if curr_sum <= 0:\n",
    "            curr_start = curr_end\n",
    "            curr_sum   = i\n",
    "        else:\n",
    "            curr_sum  += i\n",
    "\n",
    "        if curr_sum > best_sum:\n",
    "            best_sum   = curr_sum\n",
    "            best_start = curr_start\n",
    "            best_end   = curr_end\n",
    "\n",
    "    return A[best_start : best_end + 1]"
   ]
  }
 ],
 "metadata": {
  "colab": {
   "authorship_tag": "ABX9TyOm8cmBxGKv3/U+lAdzoDeY",
   "collapsed_sections": [],
   "name": "Task1.ipynb",
   "provenance": []
  },
  "kernelspec": {
   "display_name": "Python 3",
   "language": "python",
   "name": "python3"
  },
  "language_info": {
   "codemirror_mode": {
    "name": "ipython",
    "version": 3
   },
   "file_extension": ".py",
   "mimetype": "text/x-python",
   "name": "python",
   "nbconvert_exporter": "python",
   "pygments_lexer": "ipython3",
   "version": "3.7.6"
  }
 },
 "nbformat": 4,
 "nbformat_minor": 1
}
